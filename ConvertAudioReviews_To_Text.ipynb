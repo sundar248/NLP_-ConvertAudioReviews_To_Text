{
 "cells": [
  {
   "cell_type": "code",
   "execution_count": 1,
   "id": "7ae9802b",
   "metadata": {},
   "outputs": [],
   "source": [
    "#!pip install SpeechRecognition"
   ]
  },
  {
   "cell_type": "code",
   "execution_count": 2,
   "id": "7500f130",
   "metadata": {},
   "outputs": [],
   "source": [
    "#!pip install pipwin"
   ]
  },
  {
   "cell_type": "code",
   "execution_count": 3,
   "id": "cbccd1b6",
   "metadata": {},
   "outputs": [
    {
     "data": {
      "text/plain": [
       "['__class__',\n",
       " '__delattr__',\n",
       " '__dict__',\n",
       " '__dir__',\n",
       " '__doc__',\n",
       " '__enter__',\n",
       " '__eq__',\n",
       " '__exit__',\n",
       " '__format__',\n",
       " '__ge__',\n",
       " '__getattribute__',\n",
       " '__gt__',\n",
       " '__hash__',\n",
       " '__init__',\n",
       " '__init_subclass__',\n",
       " '__le__',\n",
       " '__lt__',\n",
       " '__module__',\n",
       " '__ne__',\n",
       " '__new__',\n",
       " '__reduce__',\n",
       " '__reduce_ex__',\n",
       " '__repr__',\n",
       " '__setattr__',\n",
       " '__sizeof__',\n",
       " '__str__',\n",
       " '__subclasshook__',\n",
       " '__weakref__',\n",
       " 'adjust_for_ambient_noise',\n",
       " 'dynamic_energy_adjustment_damping',\n",
       " 'dynamic_energy_ratio',\n",
       " 'dynamic_energy_threshold',\n",
       " 'energy_threshold',\n",
       " 'listen',\n",
       " 'listen_in_background',\n",
       " 'non_speaking_duration',\n",
       " 'operation_timeout',\n",
       " 'pause_threshold',\n",
       " 'phrase_threshold',\n",
       " 'recognize_api',\n",
       " 'recognize_bing',\n",
       " 'recognize_google',\n",
       " 'recognize_google_cloud',\n",
       " 'recognize_houndify',\n",
       " 'recognize_ibm',\n",
       " 'recognize_sphinx',\n",
       " 'recognize_wit',\n",
       " 'record',\n",
       " 'snowboy_wait_for_hot_word']"
      ]
     },
     "execution_count": 3,
     "metadata": {},
     "output_type": "execute_result"
    }
   ],
   "source": [
    "import speech_recognition as sr\n",
    "recognize = sr.Recognizer()\n",
    "?recognize.record\n",
    "dir(recognize)"
   ]
  },
  {
   "cell_type": "markdown",
   "id": "c0503fcb",
   "metadata": {},
   "source": [
    "### 1. Load the given audio file \"Recording2.wav\" - this contains a sample audio for you to get\n",
    "comfortable with the module, use the 'AudioFile' method."
   ]
  },
  {
   "cell_type": "code",
   "execution_count": 4,
   "id": "edacf564",
   "metadata": {},
   "outputs": [],
   "source": [
    "sample = sr.AudioFile(\"Recording2.wav\")"
   ]
  },
  {
   "cell_type": "markdown",
   "id": "7ab628fd",
   "metadata": {},
   "source": [
    "### 2. With this as a source, 'record' the audio from the file."
   ]
  },
  {
   "cell_type": "code",
   "execution_count": 5,
   "id": "58490cdf",
   "metadata": {},
   "outputs": [],
   "source": [
    "with sample as source:\n",
    "    audio = recognize.record(sample)"
   ]
  },
  {
   "cell_type": "markdown",
   "id": "5d658557",
   "metadata": {},
   "source": [
    "### 3. Using 'recognize_google' method, convert the audio to text."
   ]
  },
  {
   "cell_type": "code",
   "execution_count": 6,
   "id": "330668d8",
   "metadata": {},
   "outputs": [
    {
     "data": {
      "text/plain": [
       "'I am so happy to make my first speech to text converter'"
      ]
     },
     "execution_count": 6,
     "metadata": {},
     "output_type": "execute_result"
    }
   ],
   "source": [
    "converted_audio_text = recognize.recognize_google(audio)\n",
    "converted_audio_text"
   ]
  },
  {
   "cell_type": "markdown",
   "id": "5f651fdb",
   "metadata": {},
   "source": [
    "### 4. Create a function to return the text for any given audio file (.wav format) as input."
   ]
  },
  {
   "cell_type": "code",
   "execution_count": 7,
   "id": "c9a9a515",
   "metadata": {},
   "outputs": [],
   "source": [
    "def speech_to_text(file):\n",
    "    sample  = sr.AudioFile(file)\n",
    "    \n",
    "    with sample as source:\n",
    "        audio = recognize.record(sample)\n",
    "    \n",
    "    return recognize.recognize_google(audio)    "
   ]
  },
  {
   "cell_type": "markdown",
   "id": "dd68be9a",
   "metadata": {},
   "source": [
    "### 5. Apply this function to the file 'Tap Review.wav' to extract the text from the audio review\n",
    "from the Amazon Tap focus group discussions."
   ]
  },
  {
   "cell_type": "code",
   "execution_count": 8,
   "id": "a25db0dd",
   "metadata": {},
   "outputs": [
    {
     "data": {
      "text/plain": [
       "'I love this little bluetooth speaker the Bluetooth connectivity is good sound quality is amazing I listen to music all the time and I use Alexa all the time'"
      ]
     },
     "execution_count": 8,
     "metadata": {},
     "output_type": "execute_result"
    }
   ],
   "source": [
    "converted_text = speech_to_text(\"Tap Review.wav\")\n",
    "converted_text"
   ]
  },
  {
   "cell_type": "markdown",
   "id": "59b2ba1b",
   "metadata": {},
   "source": [
    "### 6. Preprocess the text and tokenize into individual terms using NLTKs word_tokenize."
   ]
  },
  {
   "cell_type": "code",
   "execution_count": 9,
   "id": "2c217fd3",
   "metadata": {},
   "outputs": [],
   "source": [
    "import nltk\n",
    "from nltk.tokenize import word_tokenize"
   ]
  },
  {
   "cell_type": "code",
   "execution_count": 10,
   "id": "dc92308b",
   "metadata": {},
   "outputs": [
    {
     "data": {
      "text/plain": [
       "'i love this little bluetooth speaker the bluetooth connectivity is good sound quality is amazing i listen to music all the time and i use alexa all the time'"
      ]
     },
     "execution_count": 10,
     "metadata": {},
     "output_type": "execute_result"
    }
   ],
   "source": [
    "lower_text = converted_text.lower()\n",
    "lower_text"
   ]
  },
  {
   "cell_type": "code",
   "execution_count": 11,
   "id": "1fdf118c",
   "metadata": {},
   "outputs": [],
   "source": [
    "tokenized_text = word_tokenize(lower_text)"
   ]
  },
  {
   "cell_type": "code",
   "execution_count": 12,
   "id": "d0c44d7e",
   "metadata": {},
   "outputs": [
    {
     "data": {
      "text/plain": [
       "['i',\n",
       " 'love',\n",
       " 'this',\n",
       " 'little',\n",
       " 'bluetooth',\n",
       " 'speaker',\n",
       " 'the',\n",
       " 'bluetooth',\n",
       " 'connectivity',\n",
       " 'is',\n",
       " 'good',\n",
       " 'sound',\n",
       " 'quality',\n",
       " 'is',\n",
       " 'amazing',\n",
       " 'i',\n",
       " 'listen',\n",
       " 'to',\n",
       " 'music',\n",
       " 'all',\n",
       " 'the',\n",
       " 'time',\n",
       " 'and',\n",
       " 'i',\n",
       " 'use',\n",
       " 'alexa',\n",
       " 'all',\n",
       " 'the',\n",
       " 'time']"
      ]
     },
     "execution_count": 12,
     "metadata": {},
     "output_type": "execute_result"
    }
   ],
   "source": [
    "tokenized_text"
   ]
  },
  {
   "cell_type": "markdown",
   "id": "a34c277c",
   "metadata": {},
   "source": [
    "### 7. Define feature_list as list of features of the product, containing the following terms:\n",
    "a. \"echo\", \"alexa\", \"music\", \"sound\", \"button\",\"bluetooth\", \"voice\", \"battery\", \"dot\", \"phone\""
   ]
  },
  {
   "cell_type": "code",
   "execution_count": 13,
   "id": "b3575025",
   "metadata": {},
   "outputs": [],
   "source": [
    "feature_list = [\"echo\", \"alexa\", \"music\", \"sound\", \"button\",\"bluetooth\", \"voice\", \"battery\", \"dot\", \"phone\"]"
   ]
  },
  {
   "cell_type": "markdown",
   "id": "d8a6652a",
   "metadata": {},
   "source": [
    "### 8. Identify which of the features are being talked about in the audio review."
   ]
  },
  {
   "cell_type": "code",
   "execution_count": 14,
   "id": "a9f125a5",
   "metadata": {},
   "outputs": [
    {
     "data": {
      "text/plain": [
       "['bluetooth', 'bluetooth', 'sound', 'music', 'alexa']"
      ]
     },
     "execution_count": 14,
     "metadata": {},
     "output_type": "execute_result"
    }
   ],
   "source": [
    "features_identified = [feature for feature in tokenized_text if feature in feature_list]\n",
    "features_identified"
   ]
  },
  {
   "cell_type": "code",
   "execution_count": 15,
   "id": "4daf40d3",
   "metadata": {},
   "outputs": [
    {
     "data": {
      "text/plain": [
       "['sound', 'bluetooth', 'music', 'alexa']"
      ]
     },
     "execution_count": 15,
     "metadata": {},
     "output_type": "execute_result"
    }
   ],
   "source": [
    "features_identified = list(set(features_identified))\n",
    "features_identified"
   ]
  },
  {
   "cell_type": "markdown",
   "id": "884cf11a",
   "metadata": {},
   "source": [
    "## 9. Record with the mic using the microphone method."
   ]
  },
  {
   "cell_type": "code",
   "execution_count": 16,
   "id": "d8c40d53",
   "metadata": {},
   "outputs": [],
   "source": [
    "#!brew install portaudio"
   ]
  },
  {
   "cell_type": "code",
   "execution_count": 17,
   "id": "24d7dcfc",
   "metadata": {},
   "outputs": [],
   "source": [
    "#!pip install pyaudio"
   ]
  },
  {
   "cell_type": "code",
   "execution_count": 18,
   "id": "accf9c24",
   "metadata": {},
   "outputs": [],
   "source": [
    "import pyaudio"
   ]
  },
  {
   "cell_type": "markdown",
   "id": "c2b6ef88",
   "metadata": {},
   "source": [
    "### a. Instantiate recognizer class from the utility."
   ]
  },
  {
   "cell_type": "code",
   "execution_count": 19,
   "id": "989974f4",
   "metadata": {},
   "outputs": [],
   "source": [
    "recognize = sr.Recognizer()"
   ]
  },
  {
   "cell_type": "code",
   "execution_count": 20,
   "id": "a45cf2ba",
   "metadata": {},
   "outputs": [
    {
     "data": {
      "text/plain": [
       "['Built-in Microphone', 'Built-in Output', 'Logitech USB Headset H340']"
      ]
     },
     "execution_count": 20,
     "metadata": {},
     "output_type": "execute_result"
    }
   ],
   "source": [
    "mic = sr.Microphone()\n",
    "\n",
    "mic.list_microphone_names()"
   ]
  },
  {
   "cell_type": "markdown",
   "id": "86f51239",
   "metadata": {},
   "source": [
    "### b. With the mic as source, 'listen' to the mic. You can say anything you like using\n",
    "your own microphone. Use recognize_google to convert to text."
   ]
  },
  {
   "cell_type": "code",
   "execution_count": 25,
   "id": "4cc13246",
   "metadata": {},
   "outputs": [
    {
     "name": "stdout",
     "output_type": "stream",
     "text": [
      "Say anything :\n",
      "hi my name is Sundar Singh the universe is beautiful when I see the stars and planets it's in order\n"
     ]
    }
   ],
   "source": [
    "with mic as source:\n",
    "    recognize.adjust_for_ambient_noise(source, duration=2)\n",
    "    print(\"Say anything :\")\n",
    "    audio = recognize.listen(source)\n",
    "    try:\n",
    "        text = recognize.recognize_google(audio)\n",
    "        print(text)\n",
    "    except:\n",
    "        print(\"Sorry, could not recognise\")"
   ]
  },
  {
   "cell_type": "code",
   "execution_count": 22,
   "id": "4e565a7f",
   "metadata": {},
   "outputs": [
    {
     "name": "stdout",
     "output_type": "stream",
     "text": [
      "['Built-in Microphone', 'Built-in Output', 'Logitech USB Headset H340']\n",
      "say anything : \n",
      "hi my name is Sundar Singh\n"
     ]
    }
   ],
   "source": [
    "# code for speech to text\n",
    "import speech_recognition as sr\n",
    "\n",
    "r=sr.Recognizer()\n",
    "print(sr.Microphone.list_microphone_names())\n",
    "with sr.Microphone() as source:\n",
    "    r.adjust_for_ambient_noise(source,duration=3)\n",
    "    # r.energy_threshold()\n",
    "    print(\"say anything : \")\n",
    "    audio= r.listen(source)\n",
    "    try:\n",
    "        text = r.recognize_google(audio)\n",
    "        print(text)\n",
    "    except:\n",
    "        print(\"sorry, could not recognise\")"
   ]
  },
  {
   "cell_type": "markdown",
   "id": "49879dab",
   "metadata": {},
   "source": [
    "### c. Record a sample review into the microphone, create a function to identify the product features being discussed in the audio."
   ]
  },
  {
   "cell_type": "code",
   "execution_count": 28,
   "id": "08614340",
   "metadata": {},
   "outputs": [
    {
     "data": {
      "text/plain": [
       "\"hi my name is Sundar Singh the universe is beautiful when I see the stars and planets it's in order\""
      ]
     },
     "execution_count": 28,
     "metadata": {},
     "output_type": "execute_result"
    }
   ],
   "source": [
    "#audio = recognize.listen(source)\n",
    "#text = recognize.recognize_google(audio)\n",
    "text"
   ]
  },
  {
   "cell_type": "code",
   "execution_count": 29,
   "id": "8de7b283",
   "metadata": {},
   "outputs": [
    {
     "data": {
      "text/plain": [
       "['hi',\n",
       " 'my',\n",
       " 'name',\n",
       " 'is',\n",
       " 'sundar',\n",
       " 'singh',\n",
       " 'the',\n",
       " 'universe',\n",
       " 'is',\n",
       " 'beautiful',\n",
       " 'when',\n",
       " 'i',\n",
       " 'see',\n",
       " 'the',\n",
       " 'stars',\n",
       " 'and',\n",
       " 'planets',\n",
       " 'it',\n",
       " \"'s\",\n",
       " 'in',\n",
       " 'order']"
      ]
     },
     "execution_count": 29,
     "metadata": {},
     "output_type": "execute_result"
    }
   ],
   "source": [
    "tokenized_text = word_tokenize(text.lower())\n",
    "tokenized_text"
   ]
  },
  {
   "cell_type": "code",
   "execution_count": 32,
   "id": "1323a1fc",
   "metadata": {},
   "outputs": [
    {
     "data": {
      "text/plain": [
       "['sundar', 'singh', 'universe', 'stars', 'planets']"
      ]
     },
     "execution_count": 32,
     "metadata": {},
     "output_type": "execute_result"
    }
   ],
   "source": [
    "feature_list = [\"sundar\", \"singh\", \"universe\", \"beatiful\", \"stars\",\"planets\",\"galaxys\", \"astroids\"]\n",
    "identified_product_features = [feature for feature in tokenized_text if feature in feature_list]\n",
    "identified_product_features"
   ]
  }
 ],
 "metadata": {
  "kernelspec": {
   "display_name": "Python 3",
   "language": "python",
   "name": "python3"
  },
  "language_info": {
   "codemirror_mode": {
    "name": "ipython",
    "version": 3
   },
   "file_extension": ".py",
   "mimetype": "text/x-python",
   "name": "python",
   "nbconvert_exporter": "python",
   "pygments_lexer": "ipython3",
   "version": "3.8.8"
  }
 },
 "nbformat": 4,
 "nbformat_minor": 5
}
